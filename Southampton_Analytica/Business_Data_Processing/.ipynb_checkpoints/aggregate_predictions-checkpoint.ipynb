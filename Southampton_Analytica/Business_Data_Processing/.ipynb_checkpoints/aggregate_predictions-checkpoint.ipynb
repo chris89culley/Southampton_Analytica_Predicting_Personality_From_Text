{
 "cells": [
  {
   "cell_type": "code",
   "execution_count": 1,
   "metadata": {},
   "outputs": [],
   "source": [
    "#load csv\n",
    "import pandas as pd\n",
    "pred_personalities = pd.read_csv(\"predicted_personality_types.csv\")"
   ]
  },
  {
   "cell_type": "code",
   "execution_count": 12,
   "metadata": {},
   "outputs": [],
   "source": [
    "busids = pd.read_json('Business_ids.json',lines=True,orient='index')\n",
    "biz_ids = pd.DataFrame(busids)\n",
    "columns = ['business_id']\n",
    "biz_ids.columns = columns"
   ]
  },
  {
   "cell_type": "code",
   "execution_count": 128,
   "metadata": {},
   "outputs": [
    {
     "data": {
      "text/plain": [
       "business_id    102\n",
       "dtype: int64"
      ]
     },
     "execution_count": 128,
     "metadata": {},
     "output_type": "execute_result"
    }
   ],
   "source": [
    "biz_ids.count()"
   ]
  },
  {
   "cell_type": "code",
   "execution_count": 14,
   "metadata": {},
   "outputs": [
    {
     "data": {
      "text/plain": [
       "Index(['Unnamed: 0', 'Unnamed: 0.1', 'Unnamed: 0.1.1', 'user_id', 'text',\n",
       "       'posts', 'joined_comment', 'max_polarity', 'average_polarity',\n",
       "       'min_polarity',\n",
       "       ...\n",
       "       'yup', 'zen', 'zero', 'zodiac', 'zombie', 'zone', 'EI', 'FT', 'NS',\n",
       "       'PJ'],\n",
       "      dtype='object', length=5028)"
      ]
     },
     "execution_count": 14,
     "metadata": {},
     "output_type": "execute_result"
    }
   ],
   "source": [
    "pred_personalities.columns"
   ]
  },
  {
   "cell_type": "code",
   "execution_count": 16,
   "metadata": {},
   "outputs": [],
   "source": [
    "import feather\n",
    "reviews1 = feather.read_dataframe('reviews1.feather')\n",
    "reviews2 = feather.read_dataframe('reviews2.feather')"
   ]
  },
  {
   "cell_type": "code",
   "execution_count": 126,
   "metadata": {},
   "outputs": [],
   "source": [
    "#link predicted personalities to the businesses they commented on \n",
    "#1. link user ID to business ID from yelp_review_dataset --> result: BizID_UsrID \n",
    "BizID_UsrID1 = pd.DataFrame(reviews1[reviews1['business_id'].isin(biz_ids['business_id'])])\n",
    "BizID_UsrID2 = pd.DataFrame(reviews2[reviews2['business_id'].isin(biz_ids['business_id'])])\n",
    "BizID_UsrID1 = BizID_UsrID1.append(BizID_UsrID2)\n",
    "BizID_UsrID = BizID_UsrID1.filter(['business_id','user_id'], axis=1)\n",
    "BizID_UsrID = BizID_UsrID1[['business_id', 'user_id']].copy()\n",
    "\n",
    "#2. Filter records for businesses available in biz_ids\n",
    "BizID_UsrID = pd.DataFrame(BizID_UsrID[BizID_UsrID['business_id'].isin(biz_ids['business_id'])])\n",
    "#3. join BizID_UsrID with pred_personalities \n",
    "BID_UID_Pers = BizID_UsrID.merge(pred_personalities)\n",
    "BID_UID_Pers = BID_UID_Pers[['business_id','user_id','text','EI','FT','NS','PJ']].copy()\n",
    "#Export to CSV \n",
    "BID_UID_Pers.to_csv('../Data.bizID_usrID_personality.csv')\n",
    "#4. aggregate personality types per business --> result BizID_Personality\n",
    "#'I': '1', 'E': '0' / 'T': '1', 'F': '0' / 'N': '1', 'S': '0'/ 'P': '1', 'J': '0'\n",
    "BID_I = pd.DataFrame(BID_UID_Pers.groupby('business_id')['EI'].sum())\n",
    "BID_I.rename(columns={'EI':'I'},inplace=True)\n",
    "BID_E = pd.DataFrame((BID_UID_Pers.groupby('business_id')['EI'].count() - BID_UID_Pers.groupby('business_id')['EI'].sum()))\n",
    "BID_E.rename(columns={'EI':'E'},inplace=True)\n",
    "BID_T = pd.DataFrame(BID_UID_Pers.groupby('business_id')['FT'].sum())\n",
    "BID_T.rename(columns={'FT':'T'},inplace=True)\n",
    "BID_F = pd.DataFrame((BID_UID_Pers.groupby('business_id')['FT'].count() - BID_UID_Pers.groupby('business_id')['FT'].sum()))\n",
    "BID_F.rename(columns={'FT':'F'},inplace=True)\n",
    "BID_N = pd.DataFrame(BID_UID_Pers.groupby('business_id')['NS'].sum())\n",
    "BID_N.rename(columns={'NS':'N'},inplace=True)\n",
    "BID_S = pd.DataFrame((BID_UID_Pers.groupby('business_id')['NS'].count() - BID_UID_Pers.groupby('business_id')['NS'].sum()))\n",
    "BID_S.rename(columns={'NS':'S'},inplace=True)\n",
    "BID_P = pd.DataFrame(BID_UID_Pers.groupby('business_id')['PJ'].sum())\n",
    "BID_P.rename(columns={'PJ':'P'},inplace=True)\n",
    "BID_J = pd.DataFrame((BID_UID_Pers.groupby('business_id')['PJ'].count() - BID_UID_Pers.groupby('business_id')['PJ'].sum()))\n",
    "BID_J.rename(columns={'PJ':'J'},inplace=True)\n",
    "BizID_Personality = BID_I.merge(BID_E, copy = False, on = 'business_id')\n",
    "BizID_Personality = BizID_Personality.merge(BID_T, copy = False, on = 'business_id')\n",
    "BizID_Personality = BizID_Personality.merge(BID_F, copy = False, on = 'business_id')\n",
    "BizID_Personality = BizID_Personality.merge(BID_N, copy = False, on = 'business_id')\n",
    "BizID_Personality = BizID_Personality.merge(BID_S, copy = False, on = 'business_id')\n",
    "BizID_Personality = BizID_Personality.merge(BID_P, copy = False, on = 'business_id')\n",
    "BizID_Personality = BizID_Personality.merge(BID_J, copy = False, on = 'business_id')\n",
    "#Export to CSV\n",
    "BizID_Personality.to_csv('../Data.bizID_personality_counts.csv')\n",
    "#5. concat comments per business ID --> result BizID_Comments\n",
    "BizID_All_Comments = BID_UID_Pers[['business_id','text']].copy()\n",
    "#join comments per business\n",
    "BizID_All_Comments = pd.DataFrame(BizID_All_Comments.groupby('business_id')['text'].apply(' '.join))\n",
    "#export to CSV\n",
    "BizID_All_Comments.to_csv('../Data.bizID_all_comments.csv')"
   ]
  },
  {
   "cell_type": "code",
   "execution_count": 125,
   "metadata": {},
   "outputs": [
    {
     "data": {
      "text/plain": [
       "text    102\n",
       "dtype: int64"
      ]
     },
     "execution_count": 125,
     "metadata": {},
     "output_type": "execute_result"
    }
   ],
   "source": [
    "BizID_All_Comments.count()"
   ]
  }
 ],
 "metadata": {
  "kernelspec": {
   "display_name": "Python 3",
   "language": "python",
   "name": "python3"
  },
  "language_info": {
   "codemirror_mode": {
    "name": "ipython",
    "version": 3
   },
   "file_extension": ".py",
   "mimetype": "text/x-python",
   "name": "python",
   "nbconvert_exporter": "python",
   "pygments_lexer": "ipython3",
   "version": "3.5.6"
  }
 },
 "nbformat": 4,
 "nbformat_minor": 2
}
