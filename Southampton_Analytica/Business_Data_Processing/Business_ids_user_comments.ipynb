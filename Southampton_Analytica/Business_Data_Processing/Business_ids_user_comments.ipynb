{
 "cells": [
  {
   "cell_type": "code",
   "execution_count": 9,
   "metadata": {},
   "outputs": [],
   "source": [
    "#importing json to read in data\n",
    "import json\n",
    "from pprint import pprint\n",
    "import pandas as pd\n",
    "import numpy as np \n",
    "import re\n"
   ]
  },
  {
   "cell_type": "code",
   "execution_count": 10,
   "metadata": {},
   "outputs": [],
   "source": [
    "#opening json file\n",
    "with open('yelp_academic_dataset_business.json',encoding=\"utf8\") as data_file:\n",
    "    number = next(data_file).strip()\n",
    "    data = [json.loads(line) for line in data_file]\n"
   ]
  },
  {
   "cell_type": "code",
   "execution_count": 11,
   "metadata": {},
   "outputs": [
    {
     "name": "stdout",
     "output_type": "stream",
     "text": [
      "{'neighborhood': 'The Strip', 'city': 'Las Vegas', 'address': '3708 Las Vegas Blvd S', 'latitude': 36.109837, 'state': 'NV', 'business_id': 'iCQpiavjjPzJ5_3gPD5Ebg', 'attributes': {'RestaurantsDelivery': 'False', 'WiFi': 'no', 'HasTV': 'True', 'RestaurantsPriceRange2': '1', 'BusinessParking': \"{'garage': True, 'street': False, 'validated': False, 'lot': False, 'valet': False}\", 'RestaurantsGoodForGroups': 'False', 'Caters': 'False', 'RestaurantsAttire': 'casual', 'Alcohol': 'beer_and_wine', 'GoodForMeal': \"{'dessert': False, 'latenight': True, 'lunch': True, 'dinner': True, 'breakfast': False, 'brunch': False}\", 'GoodForKids': 'True', 'RestaurantsReservations': 'False', 'WheelchairAccessible': 'True', 'RestaurantsTableService': 'False', 'NoiseLevel': 'average', 'BusinessAcceptsCreditCards': 'True', 'BikeParking': 'False', 'OutdoorSeating': 'False', 'RestaurantsTakeOut': 'True', 'Ambience': \"{'romantic': False, 'intimate': False, 'classy': False, 'hipster': False, 'divey': False, 'touristy': False, 'trendy': False, 'upscale': False, 'casual': True}\"}, 'hours': {'Monday': '11:0-5:0', 'Sunday': '11:0-5:0', 'Thursday': '11:0-4:0', 'Wednesday': '11:0-4:0', 'Friday': '11:0-5:0', 'Saturday': '11:0-5:0', 'Tuesday': '11:0-4:0'}, 'longitude': -115.174212, 'is_open': 1, 'stars': 4.0, 'review_count': 4078, 'postal_code': '89109', 'name': 'Secret Pizza', 'categories': 'Pizza, Restaurants'}\n"
     ]
    }
   ],
   "source": [
    "for x in range(len(data)):\n",
    "    if data[x]['business_id'] == 'iCQpiavjjPzJ5_3gPD5Ebg':\n",
    "        print(data[x])"
   ]
  },
  {
   "cell_type": "code",
   "execution_count": 30,
   "metadata": {},
   "outputs": [
    {
     "name": "stdout",
     "output_type": "stream",
     "text": [
      "28865\n",
      "18233\n",
      "56\n"
     ]
    }
   ],
   "source": [
    "#Collecting busines id for city values\n",
    "#creating lists to store each city and business id\n",
    "Las_vegas = []\n",
    "Toronto = []\n",
    "BusinessIds = []\n",
    "\n",
    "#looping to get the records for Las Vegas and Toronto cities\n",
    "for i in range(len(data)):\n",
    "    if data[i]['city'] == 'Las Vegas':\n",
    "        Las_vegas.append(i)\n",
    "        \n",
    "    if data[i]['city'] == 'Toronto':\n",
    "        Toronto.append(i) \n",
    " \n",
    "#checking length is reasonable\n",
    "print(len(Las_vegas))\n",
    "print(len(Toronto))\n",
    "\n",
    "#putting the businessids into one list\n",
    "count_l = 0\n",
    "number_required = 50\n",
    "count_t = 0\n",
    "for i in range(len(Las_vegas)):\n",
    "    if (int(data[Las_vegas[i]]['review_count']) > 900):\n",
    "        count_l += 1\n",
    "        BusinessIds.append(data[Las_vegas[i]]['business_id'])\n",
    "        if count_l > number_required:\n",
    "            break\n",
    "             \n",
    "\n",
    "        \n",
    "\n",
    "    \n",
    "for i in range(len(Toronto)):\n",
    "    if (data[Toronto[i]]['review_count'] > 900):\n",
    "        count_t += 1\n",
    "        BusinessIds.append(data[Toronto[i]]['business_id'])\n",
    "        if count_t > number_required:\n",
    "            break\n",
    "\n",
    "#ensuring no duplicated in list\n",
    "Filtered_Business_Ids = list(set(BusinessIds))\n",
    "\n",
    "\n",
    "\n",
    "print(len(Filtered_Business_Ids))\n",
    "\n"
   ]
  },
  {
   "cell_type": "code",
   "execution_count": 31,
   "metadata": {},
   "outputs": [],
   "source": [
    "#output business ids into a json file\n",
    "Business_ids = []\n",
    "for i in range(len(Filtered_Business_Ids)):\n",
    "    Business_ids.append(json.dumps({'Business_id': Filtered_Business_Ids[i]}))\n",
    "\n",
    "\n",
    "with open('Business_ids.json', 'w') as outfile:\n",
    "    json.dump(BusinessIds, outfile)"
   ]
  },
  {
   "cell_type": "code",
   "execution_count": 9,
   "metadata": {},
   "outputs": [],
   "source": [
    "#checking json file\n",
    "with open('Business_ids.json') as f:\n",
    "    data2 = json.load(f)\n"
   ]
  },
  {
   "cell_type": "code",
   "execution_count": 35,
   "metadata": {},
   "outputs": [],
   "source": [
    "#beginning of Fairouz's code\n",
    "#move business ids to dataframe\n",
    "busids = pd.read_json('Business_ids.json',lines=True,orient='index')\n",
    "biz_ids = pd.DataFrame(busids)\n",
    "columns = ['business_id']\n",
    "biz_ids.columns = columns"
   ]
  },
  {
   "cell_type": "code",
   "execution_count": 14,
   "metadata": {},
   "outputs": [],
   "source": [
    "#load reviews from feathers\n",
    "import feather\n",
    "reviews1 = feather.read_dataframe('reviews1.feather')\n",
    "reviews2 = feather.read_dataframe('reviews2.feather')"
   ]
  },
  {
   "cell_type": "code",
   "execution_count": 32,
   "metadata": {},
   "outputs": [
    {
     "name": "stdout",
     "output_type": "stream",
     "text": [
      "['5shgJB7a-2_gdnzc0gsOtg', 'f9sU31meK0bqAD7922sCog', 'vx4YAA02Qz6khRD1fZ1MFA', 'RhEvP5flF6KoPriMHmVYGg', 'OKZkEXzJt0XIamHRRTX-8g', 'ZibmYdOPKLlqDM9oR6xzOA', 'FLMxWQO-ckCQmGZhU9OQgw', 'RtUvSWO_UZ8V3Wpj0n077w', 'LFs5jyYdXlzi0SpAYi1eSA', 'eEnNw3_hBvxcFHyr23kAuA', 'iIwKW2cBAxjElE8eUzjwqA', 'fL-b760btOaGa85OJ9ut3w', 'WYw3Uf56DT5IwpaLNnCH5Q', 'HQcel0uvg7N7KfhHJChfSQ', 'JAmQCmczUclNUfZjkNdjQA', 'pomGBqfbxcqPv14c3XH-ZQ', 'aLcFhMe6DDJ430zelCpd2A', 'w8RWhhuKxMiFCpvFvIQ3zg', 'ThNGovQZjZ5mn-ZwX_N2BQ', 'CVKOPzBVOj3_apFUmZ9ZWw', 'JDZ6_yycNQFTpUZzLIKHUg', 'd4qwVw4PcN-_2mK2o1Ro1g', 'f8IMQgRwo-8GP372MElDGQ', 'bpRo8L8dkhgbJhdIKa9mwA', 'r_BrIgzYcwo1NAuG9dLbpg', '-ed0Yc9on37RoIoG2ZgxBA', '7ibuDLfx8gEhESAufYIySw', 'dn_ipqbm7_jUz5X3rDez_A', 'l_GV0hgEoTUf70uJVT0_hg', 'Gt4z3AylNTsEPDkzkaC7HA', 'pHJu8tj3sI8eC5aIHLFEfQ', 'TCWMgOiV0PxQkWE1SyBIWQ', 'Ec9CBmL3285XkeHaNp-bSQ', '6tSvz_21BMo3a4GaItwa0g', 'mDR12Hafvr84ctpsV6YLag', '9SU7ZZhaFUJJ6m2k5HKHeg', 'UYh1N1xQhOh-a7nX92xPzQ', 'xtYiHTmunjfCN2sUaQxBjA', '3uC7Lbc3RgUDTWQlBu4PqQ', 'IZivKqtHyz4-ts8KsnvMrA', 'DzKl51tivGJMLiNsQqf38w', 'q3dJQtwZQrrurNT-1bNKgQ', 'p0iEUamJVp_QpaheE-Nz_g', '2sx52lDoiEtef7xgPCaoBw', 'N93EYZy9R0sdlEvubu94ig', 'uW6UHfONAmm8QttPkbMewQ', 'eJKnymd0BywNPrJw1IuXVw', 'dEAk-gE-5Q95a7p91gNn8A', 'BLIJ-p5wYuAhw6Pp6mh6mw', 'A5Rkh7UymKm0_Rxm9K2PJw', 'DbEszO3wk1xVmN3pCPob2g', '3GEEy7RP6e4bT4LAiWFMFQ', 'KskYqH1Bi7Z_61pH6Om8pg', 'OETh78qcgDltvHULowwhJg', 'iGEvDk6hsizigmXhDKs2Vg', 'hIUKufhwR6Ifn7bi0-phLA']\n"
     ]
    }
   ],
   "source": [
    "print(Filtered_Business_Ids)"
   ]
  },
  {
   "cell_type": "code",
   "execution_count": 33,
   "metadata": {},
   "outputs": [
    {
     "name": "stdout",
     "output_type": "stream",
     "text": [
      "{'neighborhood': 'Eastside', 'city': 'Las Vegas', 'address': '3900 Paradise Rd', 'latitude': 36.1188384, 'state': 'NV', 'business_id': '5shgJB7a-2_gdnzc0gsOtg', 'attributes': {'WiFi': 'no', 'BYOB': 'False', 'BusinessParking': \"{'garage': False, 'street': False, 'validated': False, 'lot': True, 'valet': False}\", 'RestaurantsGoodForGroups': 'True', 'Caters': 'True', 'RestaurantsAttire': 'casual', 'GoodForKids': 'False', 'RestaurantsReservations': 'True', 'Open24Hours': 'False', 'Corkage': 'True', 'RestaurantsDelivery': 'False', 'RestaurantsPriceRange2': '2', 'BYOBCorkage': 'no', 'Alcohol': 'full_bar', 'GoodForMeal': \"{'dessert': False, 'latenight': False, 'lunch': False, 'dinner': True, 'breakfast': False, 'brunch': False}\", 'HasTV': 'True', 'WheelchairAccessible': 'True', 'RestaurantsTableService': 'True', 'NoiseLevel': 'loud', 'BusinessAcceptsCreditCards': 'True', 'OutdoorSeating': 'True', 'RestaurantsTakeOut': 'True', 'Ambience': \"{'romantic': False, 'intimate': False, 'classy': False, 'hipster': False, 'divey': False, 'touristy': False, 'trendy': True, 'upscale': False, 'casual': False}\"}, 'hours': {'Monday': '11:30-2:0', 'Sunday': '11:30-2:0', 'Thursday': '11:30-2:0', 'Wednesday': '11:30-2:0', 'Friday': '11:30-2:0', 'Saturday': '11:30-2:0', 'Tuesday': '11:30-2:0'}, 'longitude': -115.1544802, 'is_open': 0, 'stars': 4.5, 'review_count': 1306, 'postal_code': '89169', 'name': 'Firefly', 'categories': 'Restaurants, Tapas/Small Plates, Tapas Bars'}\n"
     ]
    }
   ],
   "source": [
    "#print(reviews1[reviews1['business_id'].isin(['kgffcoxT6BQp-gJ-UQ7Czw'])])\n",
    "\n",
    "for x in range(len(data)):\n",
    "    if data[x]['business_id'] == '5shgJB7a-2_gdnzc0gsOtg':\n",
    "        print(data[x])"
   ]
  },
  {
   "cell_type": "code",
   "execution_count": 36,
   "metadata": {},
   "outputs": [
    {
     "data": {
      "text/plain": [
       "'list1 count: '"
      ]
     },
     "metadata": {},
     "output_type": "display_data"
    },
    {
     "data": {
      "text/plain": [
       "user_id    32160\n",
       "dtype: int64"
      ]
     },
     "metadata": {},
     "output_type": "display_data"
    },
    {
     "data": {
      "text/plain": [
       "'list2 count: '"
      ]
     },
     "metadata": {},
     "output_type": "display_data"
    },
    {
     "data": {
      "text/plain": [
       "user_id    32969\n",
       "dtype: int64"
      ]
     },
     "metadata": {},
     "output_type": "display_data"
    },
    {
     "data": {
      "text/plain": [
       "'list1+2 count: '"
      ]
     },
     "metadata": {},
     "output_type": "display_data"
    },
    {
     "data": {
      "text/plain": [
       "user_id    65129\n",
       "dtype: int64"
      ]
     },
     "metadata": {},
     "output_type": "display_data"
    },
    {
     "data": {
      "text/plain": [
       "'list1+2 de-duplicated: '"
      ]
     },
     "metadata": {},
     "output_type": "display_data"
    },
    {
     "data": {
      "text/plain": [
       "user_id    65109\n",
       "dtype: int64"
      ]
     },
     "metadata": {},
     "output_type": "display_data"
    }
   ],
   "source": [
    "#select users who commented on the selected business - remove any user duplicates\n",
    "import pandas as pd\n",
    "temp_user = pd.DataFrame(columns=['user_id']) \n",
    "users_list1 = pd.DataFrame(reviews1[reviews1['business_id'].isin(biz_ids['business_id'])]['user_id'])\n",
    "users_list2 = pd.DataFrame(reviews2[reviews2['business_id'].isin(biz_ids['business_id'])]['user_id'])\n",
    "users_list1 = users_list1.drop_duplicates(subset='user_id',keep='first')\n",
    "display('list1 count: ') \n",
    "display(users_list1.count())\n",
    "users_list2 = users_list2.drop_duplicates(subset='user_id',keep='first')\n",
    "display('list2 count: ') \n",
    "display(users_list2.count())\n",
    "users_list1 = users_list1.append(users_list2)\n",
    "display('list1+2 count: ') \n",
    "display(users_list1.count())\n",
    "users_list1 = users_list1.drop_duplicates(subset='user_id',keep='first')\n",
    "display('list1+2 de-duplicated: ') \n",
    "display(users_list1.count())"
   ]
  },
  {
   "cell_type": "code",
   "execution_count": 37,
   "metadata": {},
   "outputs": [
    {
     "data": {
      "text/plain": [
       "business_id    1070821\n",
       "cool           1070821\n",
       "date           1070821\n",
       "funny          1070821\n",
       "review_id      1070821\n",
       "stars          1070821\n",
       "text           1070821\n",
       "useful         1070821\n",
       "user_id        1070821\n",
       "dtype: int64"
      ]
     },
     "execution_count": 37,
     "metadata": {},
     "output_type": "execute_result"
    }
   ],
   "source": [
    "#read comments made by users accross yelp dataset\n",
    "users_comments1 = pd.DataFrame(reviews1[reviews1['user_id'].isin(users_list1['user_id'])])\n",
    "users_comments2 = pd.DataFrame(reviews2[reviews2['user_id'].isin(users_list1['user_id'])])\n",
    "users_comments = users_comments1.append(users_comments2)\n",
    "users_comments.count()"
   ]
  },
  {
   "cell_type": "code",
   "execution_count": null,
   "metadata": {},
   "outputs": [],
   "source": []
  },
  {
   "cell_type": "code",
   "execution_count": 38,
   "metadata": {},
   "outputs": [],
   "source": [
    "comments_only = users_comments.groupby('user_id')['text'].apply(' '.join)"
   ]
  },
  {
   "cell_type": "code",
   "execution_count": 39,
   "metadata": {},
   "outputs": [],
   "source": [
    "comments_only = comments_only.reset_index()"
   ]
  },
  {
   "cell_type": "code",
   "execution_count": 40,
   "metadata": {},
   "outputs": [
    {
     "ename": "TypeError",
     "evalue": "'tuple' object is not callable",
     "output_type": "error",
     "traceback": [
      "\u001b[1;31m---------------------------------------------------------------------------\u001b[0m",
      "\u001b[1;31mTypeError\u001b[0m                                 Traceback (most recent call last)",
      "\u001b[1;32m<ipython-input-40-14bd8faf5f0b>\u001b[0m in \u001b[0;36m<module>\u001b[1;34m()\u001b[0m\n\u001b[1;32m----> 1\u001b[1;33m \u001b[0mcomments_only\u001b[0m\u001b[1;33m.\u001b[0m\u001b[0mshape\u001b[0m\u001b[1;33m(\u001b[0m\u001b[1;33m)\u001b[0m\u001b[1;33m\u001b[0m\u001b[0m\n\u001b[0m",
      "\u001b[1;31mTypeError\u001b[0m: 'tuple' object is not callable"
     ]
    }
   ],
   "source": [
    "comments_only.shape()"
   ]
  },
  {
   "cell_type": "code",
   "execution_count": 41,
   "metadata": {},
   "outputs": [],
   "source": [
    "comments_only.to_csv('../Data.yelp_comments_reduced_2.csv')\n"
   ]
  },
  {
   "cell_type": "code",
   "execution_count": null,
   "metadata": {},
   "outputs": [],
   "source": []
  },
  {
   "cell_type": "code",
   "execution_count": null,
   "metadata": {},
   "outputs": [],
   "source": []
  },
  {
   "cell_type": "code",
   "execution_count": null,
   "metadata": {},
   "outputs": [],
   "source": []
  },
  {
   "cell_type": "code",
   "execution_count": null,
   "metadata": {},
   "outputs": [],
   "source": []
  },
  {
   "cell_type": "code",
   "execution_count": null,
   "metadata": {},
   "outputs": [],
   "source": []
  },
  {
   "cell_type": "code",
   "execution_count": null,
   "metadata": {},
   "outputs": [],
   "source": []
  },
  {
   "cell_type": "code",
   "execution_count": null,
   "metadata": {},
   "outputs": [],
   "source": []
  },
  {
   "cell_type": "code",
   "execution_count": null,
   "metadata": {},
   "outputs": [],
   "source": []
  },
  {
   "cell_type": "code",
   "execution_count": null,
   "metadata": {},
   "outputs": [],
   "source": []
  },
  {
   "cell_type": "code",
   "execution_count": null,
   "metadata": {},
   "outputs": [],
   "source": []
  }
 ],
 "metadata": {
  "kernelspec": {
   "display_name": "Python 3",
   "language": "python",
   "name": "python3"
  },
  "language_info": {
   "codemirror_mode": {
    "name": "ipython",
    "version": 3
   },
   "file_extension": ".py",
   "mimetype": "text/x-python",
   "name": "python",
   "nbconvert_exporter": "python",
   "pygments_lexer": "ipython3",
   "version": "3.5.6"
  }
 },
 "nbformat": 4,
 "nbformat_minor": 2
}
